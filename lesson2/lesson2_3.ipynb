{
 "cells": [
  {
   "cell_type": "code",
   "execution_count": 17,
   "id": "39e41566",
   "metadata": {},
   "outputs": [],
   "source": [
    "# *args可變長度參數\n",
    "# todo:計算總合的function\n",
    "# 參數:*args\n",
    "# return:總和\n",
    "def sum_all(*args): #沒有限定名稱引述值呼叫\n",
    "    print(args)  # args會是一個tuple\n",
    "    total = 0\n",
    "    for num in args:\n",
    "        total += num\n",
    "    return total"
   ]
  },
  {
   "cell_type": "code",
   "execution_count": 18,
   "id": "835d04b4",
   "metadata": {},
   "outputs": [
    {
     "name": "stdout",
     "output_type": "stream",
     "text": [
      "()\n",
      "(1, 2, 3, 4, 5)\n",
      "(10, 20, 30)\n"
     ]
    },
    {
     "data": {
      "text/plain": [
       "60"
      ]
     },
     "execution_count": 18,
     "metadata": {},
     "output_type": "execute_result"
    }
   ],
   "source": [
    "sum_all()\n",
    "sum_all(1, 2, 3, 4, 5)\n",
    "sum_all(10, 20, 30)"
   ]
  }
 ],
 "metadata": {
  "kernelspec": {
   "display_name": "pythonweb",
   "language": "python",
   "name": "python3"
  },
  "language_info": {
   "codemirror_mode": {
    "name": "ipython",
    "version": 3
   },
   "file_extension": ".py",
   "mimetype": "text/x-python",
   "name": "python",
   "nbconvert_exporter": "python",
   "pygments_lexer": "ipython3",
   "version": "3.10.18"
  }
 },
 "nbformat": 4,
 "nbformat_minor": 5
}
