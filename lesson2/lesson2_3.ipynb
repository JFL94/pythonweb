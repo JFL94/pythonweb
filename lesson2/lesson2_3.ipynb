{
 "cells": [
  {
   "cell_type": "code",
   "execution_count": 17,
   "id": "39e41566",
   "metadata": {},
   "outputs": [],
   "source": [
    "# *args可變長度參數\n",
    "# todo:計算總合的function\n",
    "# 參數:*args\n",
    "# return:總和\n",
    "def sum_all(*args): #沒有限定名稱引述值呼叫\n",
    "    print(args)  # args會是一個tuple\n",
    "    total = 0\n",
    "    for num in args:\n",
    "        total += num\n",
    "    return total"
   ]
  },
  {
   "cell_type": "code",
   "execution_count": 18,
   "id": "835d04b4",
   "metadata": {},
   "outputs": [
    {
     "name": "stdout",
     "output_type": "stream",
     "text": [
      "()\n",
      "(1, 2, 3, 4, 5)\n",
      "(10, 20, 30)\n"
     ]
    },
    {
     "data": {
      "text/plain": [
       "60"
      ]
     },
     "execution_count": 18,
     "metadata": {},
     "output_type": "execute_result"
    }
   ],
   "source": [
    "sum_all()\n",
    "sum_all(1, 2, 3, 4, 5)\n",
    "sum_all(10, 20, 30)"
   ]
  },
  {
   "cell_type": "code",
   "execution_count": 19,
   "id": "2885ca40",
   "metadata": {},
   "outputs": [],
   "source": [
    "# **kwargs可變長度關鍵字參數\n",
    "# todo:自訂function\n",
    "# 名稱:create_student_info\n",
    "# 參數:**kwargs\n",
    "# return(dict):student_info\n",
    "def create_student_info(**kwargs):\n",
    "    print(kwargs) # kwargs會是一個dict\n",
    "    student_info = {}\n",
    "    for key, value in kwargs.items():\n",
    "        student_info[key] = value\n",
    "    return student_info"
   ]
  },
  {
   "cell_type": "code",
   "execution_count": 20,
   "id": "411796cb",
   "metadata": {},
   "outputs": [
    {
     "name": "stdout",
     "output_type": "stream",
     "text": [
      "{'name': 'jfl', 'age': 20, 'major': 'CS'}\n"
     ]
    },
    {
     "data": {
      "text/plain": [
       "{'name': 'jfl', 'age': 20, 'major': 'CS'}"
      ]
     },
     "execution_count": 20,
     "metadata": {},
     "output_type": "execute_result"
    }
   ],
   "source": [
    "create_student_info(name=\"jfl\", age=20, major=\"CS\")"
   ]
  },
  {
   "cell_type": "code",
   "execution_count": 21,
   "id": "dce36e60",
   "metadata": {},
   "outputs": [
    {
     "name": "stdout",
     "output_type": "stream",
     "text": [
      "{'name': 'alice', 'age': 22, 'major': 'Math', 'gpa': 3.8}\n"
     ]
    },
    {
     "data": {
      "text/plain": [
       "{'name': 'alice', 'age': 22, 'major': 'Math', 'gpa': 3.8}"
      ]
     },
     "execution_count": 21,
     "metadata": {},
     "output_type": "execute_result"
    }
   ],
   "source": [
    "create_student_info(name=\"alice\", age=22, major=\"Math\", gpa=3.8)"
   ]
  },
  {
   "cell_type": "code",
   "execution_count": 22,
   "id": "0c0a4d64",
   "metadata": {},
   "outputs": [
    {
     "name": "stdout",
     "output_type": "stream",
     "text": [
      "密碼強度檢查\n",
      "\n",
      "\n",
      "===============\n"
     ]
    }
   ],
   "source": [
    "# 密碼強度檢查\n",
    "print(\"密碼強度檢查\")\n",
    "print()\n",
    "print()\n",
    "print(\"===============\")"
   ]
  },
  {
   "cell_type": "code",
   "execution_count": 27,
   "id": "514ae2c7",
   "metadata": {},
   "outputs": [
    {
     "name": "stdout",
     "output_type": "stream",
     "text": [
      "a-b-c END\n"
     ]
    }
   ],
   "source": [
    "print(\"a\", \"b\", \"c\", sep=\"-\", end=\" END\\n\")  #sep參數間指定分隔符號，end結尾指定結尾符號"
   ]
  },
  {
   "cell_type": "code",
   "execution_count": null,
   "id": "cd3addcd",
   "metadata": {},
   "outputs": [],
   "source": [
    "\n",
    "print(\"a\", \"b\", \"c\", end=\" END\\n\", sep=\"-\")  #先後順序不影響"
   ]
  }
 ],
 "metadata": {
  "kernelspec": {
   "display_name": "pythonweb",
   "language": "python",
   "name": "python3"
  },
  "language_info": {
   "codemirror_mode": {
    "name": "ipython",
    "version": 3
   },
   "file_extension": ".py",
   "mimetype": "text/x-python",
   "name": "python",
   "nbconvert_exporter": "python",
   "pygments_lexer": "ipython3",
   "version": "3.10.18"
  }
 },
 "nbformat": 4,
 "nbformat_minor": 5
}
