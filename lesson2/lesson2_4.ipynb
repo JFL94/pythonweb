{
 "cells": [
  {
   "cell_type": "code",
   "execution_count": null,
   "id": "ff3d32c8",
   "metadata": {},
   "outputs": [],
   "source": [
    "# 定義類別\n",
    "class Car():    #class名稱首字母大寫，定義類別也代表同時定義資料類型\n",
    "    pass"
   ]
  },
  {
   "cell_type": "code",
   "execution_count": null,
   "id": "bd124d84",
   "metadata": {},
   "outputs": [
    {
     "data": {
      "text/plain": [
       "__main__.Car"
      ]
     },
     "execution_count": 5,
     "metadata": {},
     "output_type": "execute_result"
    }
   ],
   "source": [
    "car1 = Car() \n",
    "type(car1) "
   ]
  },
  {
   "cell_type": "code",
   "execution_count": 6,
   "id": "9d894b30",
   "metadata": {},
   "outputs": [],
   "source": [
    "class Dog():\n",
    "    def __init__(self,name,age):  #初始\n",
    "        self.name = name\n",
    "        self.age = age"
   ]
  },
  {
   "cell_type": "code",
   "execution_count": null,
   "id": "b895ba25",
   "metadata": {},
   "outputs": [
    {
     "name": "stdout",
     "output_type": "stream",
     "text": [
      "小白\n",
      "3\n"
     ]
    }
   ],
   "source": [
    "dog1 = Dog(\"小白\",3) #建立實體dog1及該實體屬性name、age\n",
    "print(dog1.name)\n",
    "print(dog1.age)"
   ]
  },
  {
   "cell_type": "code",
   "execution_count": null,
   "id": "0e704de3",
   "metadata": {},
   "outputs": [
    {
     "name": "stdout",
     "output_type": "stream",
     "text": [
      "Max\n",
      "5\n"
     ]
    }
   ],
   "source": [
    "dog2 = Dog(\"Max\",5) #建立實體dog2及該實體屬性name、age\n",
    "print(dog2.name)\n",
    "print(dog2.age)"
   ]
  },
  {
   "cell_type": "code",
   "execution_count": 16,
   "id": "d0a70376",
   "metadata": {},
   "outputs": [
    {
     "name": "stdout",
     "output_type": "stream",
     "text": [
      "Bella\n",
      "2\n"
     ]
    }
   ],
   "source": [
    "dog3 = Dog(\"Bella\", 2) #建立實體dog3及該實體屬性name、age\n",
    "print(dog3.name)\n",
    "print(dog3.age)"
   ]
  }
 ],
 "metadata": {
  "kernelspec": {
   "display_name": "pythonweb",
   "language": "python",
   "name": "python3"
  },
  "language_info": {
   "codemirror_mode": {
    "name": "ipython",
    "version": 3
   },
   "file_extension": ".py",
   "mimetype": "text/x-python",
   "name": "python",
   "nbconvert_exporter": "python",
   "pygments_lexer": "ipython3",
   "version": "3.10.18"
  }
 },
 "nbformat": 4,
 "nbformat_minor": 5
}
