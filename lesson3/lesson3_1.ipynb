{
 "cells": [
  {
   "cell_type": "code",
   "execution_count": 1,
   "id": "26fbaec4",
   "metadata": {},
   "outputs": [
    {
     "name": "stdout",
     "output_type": "stream",
     "text": [
      "hello word!\n"
     ]
    }
   ],
   "source": [
    "print(\"hello word!\")"
   ]
  },
  {
   "cell_type": "code",
   "execution_count": null,
   "id": "efa47e04",
   "metadata": {},
   "outputs": [],
   "source": [
    "class Person:\n",
    "    def __init__(self,name): #自訂初始化實體、屬性\n",
    "        self.name=name    #建立attribute\n",
    "\n",
    "    def greeting(self):   #自訂實體方法\n",
    "        print(f\"您好{self.name}\")"
   ]
  },
  {
   "cell_type": "code",
   "execution_count": 45,
   "id": "c1de52e9",
   "metadata": {},
   "outputs": [
    {
     "name": "stdout",
     "output_type": "stream",
     "text": [
      "您好robert\n",
      "您好jenny\n"
     ]
    }
   ],
   "source": [
    "p1:Person=Person(\"robert\")  #型別提示\n",
    "p1.greeting()\n",
    "\n",
    "p2:Person=Person(name=\"jenny\")  #型別提示\n",
    "p2.greeting()"
   ]
  },
  {
   "cell_type": "code",
   "execution_count": 46,
   "id": "a3717d68",
   "metadata": {},
   "outputs": [],
   "source": [
    "class Student(Person):\n",
    "    pass"
   ]
  },
  {
   "cell_type": "code",
   "execution_count": 47,
   "id": "b9aead0c",
   "metadata": {},
   "outputs": [
    {
     "name": "stdout",
     "output_type": "stream",
     "text": [
      "Kevin\n",
      "您好Kevin\n"
     ]
    }
   ],
   "source": [
    "s1=Student(\"Kevin\")\n",
    "print(s1.name)\n",
    "s1.greeting()"
   ]
  }
 ],
 "metadata": {
  "kernelspec": {
   "display_name": "pythonweb",
   "language": "python",
   "name": "python3"
  },
  "language_info": {
   "codemirror_mode": {
    "name": "ipython",
    "version": 3
   },
   "file_extension": ".py",
   "mimetype": "text/x-python",
   "name": "python",
   "nbconvert_exporter": "python",
   "pygments_lexer": "ipython3",
   "version": "3.10.18"
  }
 },
 "nbformat": 4,
 "nbformat_minor": 5
}
