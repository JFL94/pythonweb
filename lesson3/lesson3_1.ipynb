{
 "cells": [
  {
   "cell_type": "code",
   "execution_count": 1,
   "id": "26fbaec4",
   "metadata": {},
   "outputs": [
    {
     "name": "stdout",
     "output_type": "stream",
     "text": [
      "hello word!\n"
     ]
    }
   ],
   "source": [
    "print(\"hello word!\")"
   ]
  },
  {
   "cell_type": "code",
   "execution_count": 54,
   "id": "efa47e04",
   "metadata": {},
   "outputs": [],
   "source": [
    "class Person:\n",
    "    def __init__(self,name): #自訂初始化實體、屬性\n",
    "        self.name=name    #建立attribute\n",
    "\n",
    "    def greeting(self):   #自訂實體方法\n",
    "        print(f\"您好:{self.name}\")"
   ]
  },
  {
   "cell_type": "code",
   "execution_count": 55,
   "id": "c1de52e9",
   "metadata": {},
   "outputs": [
    {
     "name": "stdout",
     "output_type": "stream",
     "text": [
      "您好:robert\n",
      "您好:jenny\n"
     ]
    }
   ],
   "source": [
    "p1:Person=Person(\"robert\")  #型別提示\n",
    "p1.greeting()\n",
    "\n",
    "p2:Person=Person(name=\"jenny\")  #型別提示\n",
    "p2.greeting()"
   ]
  },
  {
   "cell_type": "code",
   "execution_count": 68,
   "id": "a3717d68",
   "metadata": {},
   "outputs": [],
   "source": [
    "class Student(Person):\n",
    "    def greeting(self): #overwirte(覆寫)父類別的實體方法\n",
    "        super().greeting()\n",
    "        print(f\"我是一個學生\")\n",
    "\n",
    "    def __init__(self,name,chinese,english,math):\n",
    "        super().__init__(name)\n",
    "        self.chinese = chinese\n",
    "        self.english = english\n",
    "        self.math=math\n",
    "\n",
    "    def total(self):\n",
    "        return self.chinese+self.english+self.math\n",
    "    \n",
    "    def average(self):\n",
    "        return self.total()/3.0"
   ]
  },
  {
   "cell_type": "code",
   "execution_count": 69,
   "id": "b9aead0c",
   "metadata": {},
   "outputs": [
    {
     "name": "stdout",
     "output_type": "stream",
     "text": [
      "Kevin\n",
      "您好:Kevin\n",
      "我是一個學生\n",
      "國文分數:100\n",
      "英文分數:78\n",
      "數學分數:92\n",
      "總分:270\n",
      "平均:90.0\n"
     ]
    }
   ],
   "source": [
    "s1=Student(\"Kevin\",english=78,math=92,chinese=100)  #可用引數值或引數名稱呼叫，使用引數名稱呼叫之後一律用引數呼叫\n",
    "print(s1.name)\n",
    "s1.greeting()\n",
    "print(f\"國文分數:{s1.chinese}\")\n",
    "print(f\"英文分數:{s1.english}\")\n",
    "print(f\"數學分數:{s1.math}\") \n",
    "print(f\"總分:{s1.total()}\")\n",
    "print(f\"平均:{s1.average()}\")\n"
   ]
  },
  {
   "cell_type": "code",
   "execution_count": null,
   "id": "a6923971",
   "metadata": {},
   "outputs": [],
   "source": []
  }
 ],
 "metadata": {
  "kernelspec": {
   "display_name": "pythonweb",
   "language": "python",
   "name": "python3"
  },
  "language_info": {
   "codemirror_mode": {
    "name": "ipython",
    "version": 3
   },
   "file_extension": ".py",
   "mimetype": "text/x-python",
   "name": "python",
   "nbconvert_exporter": "python",
   "pygments_lexer": "ipython3",
   "version": "3.10.18"
  }
 },
 "nbformat": 4,
 "nbformat_minor": 5
}
