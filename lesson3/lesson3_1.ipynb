{
 "cells": [
  {
   "cell_type": "code",
   "execution_count": 1,
   "id": "26fbaec4",
   "metadata": {},
   "outputs": [
    {
     "name": "stdout",
     "output_type": "stream",
     "text": [
      "hello word!\n"
     ]
    }
   ],
   "source": [
    "print(\"hello word!\")"
   ]
  },
  {
   "cell_type": "code",
   "execution_count": 54,
   "id": "efa47e04",
   "metadata": {},
   "outputs": [],
   "source": [
    "class Person:\n",
    "    def __init__(self,name): #自訂初始化實體、屬性\n",
    "        self.name=name    #建立attribute\n",
    "\n",
    "    def greeting(self):   #自訂實體方法\n",
    "        print(f\"您好:{self.name}\")"
   ]
  },
  {
   "cell_type": "code",
   "execution_count": 55,
   "id": "c1de52e9",
   "metadata": {},
   "outputs": [
    {
     "name": "stdout",
     "output_type": "stream",
     "text": [
      "您好:robert\n",
      "您好:jenny\n"
     ]
    }
   ],
   "source": [
    "p1:Person=Person(\"robert\")  #型別提示\n",
    "p1.greeting()\n",
    "\n",
    "p2:Person=Person(name=\"jenny\")  #型別提示\n",
    "p2.greeting()"
   ]
  },
  {
   "cell_type": "code",
   "execution_count": 73,
   "id": "a3717d68",
   "metadata": {},
   "outputs": [],
   "source": [
    "class Student(Person):\n",
    "    def greeting(self): #overwirte(覆寫)父類別的實體方法\n",
    "        super().greeting()\n",
    "        print(f\"我是一個學生\")\n",
    "\n",
    "    def __init__(self,name,chinese,english,math):\n",
    "        super().__init__(name)\n",
    "        self.__chinese = chinese\n",
    "        self.__english = english\n",
    "        self.__math=math\n",
    "\n",
    "    @property   #decorator裝飾\n",
    "    def chinese(self):\n",
    "        return self.__chinese   #只能傳出值\n",
    "    \n",
    "    @property\n",
    "    def english(self):\n",
    "        return self.__english\n",
    "    \n",
    "    @property\n",
    "    def math(self):\n",
    "        return self.math\n",
    "\n",
    "    def total(self):    #method，自訂實體方法\n",
    "        return self.chinese+self.english+self.math\n",
    "    \n",
    "    def average(self):   #method，自訂實體方法\n",
    "        return self.total()/3.0"
   ]
  },
  {
   "cell_type": "code",
   "execution_count": 75,
   "id": "b9aead0c",
   "metadata": {},
   "outputs": [
    {
     "name": "stdout",
     "output_type": "stream",
     "text": [
      "Kevin\n",
      "您好:Kevin\n",
      "我是一個學生\n"
     ]
    },
    {
     "ename": "AttributeError",
     "evalue": "can't set attribute 'chinese'",
     "output_type": "error",
     "traceback": [
      "\u001b[1;31m---------------------------------------------------------------------------\u001b[0m",
      "\u001b[1;31mAttributeError\u001b[0m                            Traceback (most recent call last)",
      "Cell \u001b[1;32mIn[75], line 4\u001b[0m\n\u001b[0;32m      2\u001b[0m \u001b[38;5;28mprint\u001b[39m(s1\u001b[38;5;241m.\u001b[39mname)\n\u001b[0;32m      3\u001b[0m s1\u001b[38;5;241m.\u001b[39mgreeting()\n\u001b[1;32m----> 4\u001b[0m \u001b[43ms1\u001b[49m\u001b[38;5;241;43m.\u001b[39;49m\u001b[43mchinese\u001b[49m \u001b[38;5;241m=\u001b[39m \u001b[38;5;241m90\u001b[39m    \u001b[38;5;66;03m#readonly使用者只能取得值，不能更改\u001b[39;00m\n\u001b[0;32m      6\u001b[0m \u001b[38;5;28mprint\u001b[39m(\u001b[38;5;124mf\u001b[39m\u001b[38;5;124m\"\u001b[39m\u001b[38;5;124m國文分數:\u001b[39m\u001b[38;5;132;01m{\u001b[39;00ms1\u001b[38;5;241m.\u001b[39mchinese\u001b[38;5;132;01m}\u001b[39;00m\u001b[38;5;124m\"\u001b[39m)\n\u001b[0;32m      7\u001b[0m \u001b[38;5;28mprint\u001b[39m(\u001b[38;5;124mf\u001b[39m\u001b[38;5;124m\"\u001b[39m\u001b[38;5;124m英文分數:\u001b[39m\u001b[38;5;132;01m{\u001b[39;00ms1\u001b[38;5;241m.\u001b[39menglish\u001b[38;5;132;01m}\u001b[39;00m\u001b[38;5;124m\"\u001b[39m)\n",
      "\u001b[1;31mAttributeError\u001b[0m: can't set attribute 'chinese'"
     ]
    }
   ],
   "source": [
    "s1=Student(\"Kevin\",english=78,math=92,chinese=100)  #可用引數值或引數名稱呼叫，使用引數名稱呼叫之後一律用引數呼叫\n",
    "print(s1.name)\n",
    "s1.greeting()\n",
    "s1.chinese = 90    #readonly使用者只能取得值，不能更改\n",
    "\n",
    "print(f\"國文分數:{s1.chinese}\")\n",
    "print(f\"英文分數:{s1.english}\")\n",
    "print(f\"數學分數:{s1.math}\") \n",
    "print(f\"總分:{s1.total()}\")\n",
    "print(f\"平均:{s1.average()}\")\n"
   ]
  },
  {
   "cell_type": "code",
   "execution_count": null,
   "id": "a6923971",
   "metadata": {},
   "outputs": [],
   "source": []
  }
 ],
 "metadata": {
  "kernelspec": {
   "display_name": "pythonweb",
   "language": "python",
   "name": "python3"
  },
  "language_info": {
   "codemirror_mode": {
    "name": "ipython",
    "version": 3
   },
   "file_extension": ".py",
   "mimetype": "text/x-python",
   "name": "python",
   "nbconvert_exporter": "python",
   "pygments_lexer": "ipython3",
   "version": "3.10.18"
  }
 },
 "nbformat": 4,
 "nbformat_minor": 5
}
