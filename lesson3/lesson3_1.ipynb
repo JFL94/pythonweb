{
 "cells": [
  {
   "cell_type": "code",
   "execution_count": 1,
   "id": "26fbaec4",
   "metadata": {},
   "outputs": [
    {
     "name": "stdout",
     "output_type": "stream",
     "text": [
      "hello word!\n"
     ]
    }
   ],
   "source": [
    "print(\"hello word!\")"
   ]
  },
  {
   "cell_type": "code",
   "execution_count": null,
   "id": "efa47e04",
   "metadata": {},
   "outputs": [],
   "source": [
    "class Person:\n",
    "   def __init__(self,name):\n",
    "      self.name=name    #attribute"
   ]
  },
  {
   "cell_type": "code",
   "execution_count": null,
   "id": "c1de52e9",
   "metadata": {},
   "outputs": [
    {
     "name": "stdout",
     "output_type": "stream",
     "text": [
      "robert\n",
      "jenny\n"
     ]
    }
   ],
   "source": [
    "p1:Person=Person(\"robert\")  #型別提示\n",
    "print(p1.name)\n",
    "\n",
    "p2:Person=Person(name=\"jenny\")  #型別提示\n",
    "print(p2.name)"
   ]
  }
 ],
 "metadata": {
  "kernelspec": {
   "display_name": "pythonweb",
   "language": "python",
   "name": "python3"
  },
  "language_info": {
   "codemirror_mode": {
    "name": "ipython",
    "version": 3
   },
   "file_extension": ".py",
   "mimetype": "text/x-python",
   "name": "python",
   "nbconvert_exporter": "python",
   "pygments_lexer": "ipython3",
   "version": "3.10.18"
  }
 },
 "nbformat": 4,
 "nbformat_minor": 5
}
