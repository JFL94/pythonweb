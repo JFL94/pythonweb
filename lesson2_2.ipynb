{
 "cells": [
  {
   "cell_type": "code",
   "execution_count": 8,
   "id": "337d6c07",
   "metadata": {},
   "outputs": [
    {
     "name": "stdout",
     "output_type": "stream",
     "text": [
      "hello word!\n"
     ]
    }
   ],
   "source": [
    "print(\"hello word!\")"
   ]
  },
  {
   "cell_type": "code",
   "execution_count": 14,
   "id": "0d524539",
   "metadata": {},
   "outputs": [
    {
     "name": "stdout",
     "output_type": "stream",
     "text": [
      "        *        \n",
      "       ***       \n",
      "      *****      \n",
      "     *********   \n",
      "    ***********  \n",
      "   ************* \n",
      "        |||      \n",
      "       =====     \n"
     ]
    }
   ],
   "source": [
    "# 定義一個沒有參數,沒有傳出值的function\n",
    "# todo:建立一個可以使用print()劃出聖誕樹的function\n",
    "# 必需要有說明docstring\n",
    "def draw_christmas_tree():\n",
    "    \"\"\"\n",
    "    這個函數會印出一個簡單的 ASCII 藝術聖誕樹。\n",
    "    \"\"\"\n",
    "    print(\"        *        \")\n",
    "    print(\"       ***       \")\n",
    "    print(\"      *****      \")\n",
    "    print(\"     *********   \")\n",
    "    print(\"    ***********  \")\n",
    "    print(\"   ************* \")\n",
    "    print(\"        |||      \")\n",
    "    print(\"       =====     \")\n",
    "\n",
    "draw_christmas_tree()"
   ]
  },
  {
   "cell_type": "code",
   "execution_count": null,
   "id": "d6bfc3eb",
   "metadata": {},
   "outputs": [
    {
     "name": "stdout",
     "output_type": "stream",
     "text": [
      "Help on function greet_person in module __main__:\n",
      "\n",
      "greet_person(name, greeting='Hello')\n",
      "    這個函數會根據提供的名字和問候語，返回一個問候訊息。\n",
      "    \n",
      "    參數:\n",
      "    name (str): 要問候的人的名字。\n",
      "    greeting (str): 問候語，預設為 \"Hello\"。\n",
      "    \n",
      "    回傳:\n",
      "    str: 格式化的問候訊息。\n",
      "\n"
     ]
    }
   ],
   "source": [
    "# 自訂的function,有參數,有傳出值\n",
    "# todo:建立一個簡單問候函數\n",
    "# 名稱:greet_person(snake_case)\n",
    "# 參數:name,greeting,greeting有預設值\n",
    "def greet_person(name, greeting=\"Hello\"):\n",
    "    \"\"\"\n",
    "    這個函數會根據提供的名字和問候語，返回一個問候訊息。\n",
    "    \n",
    "    參數:\n",
    "    name (str): 要問候的人的名字。\n",
    "    greeting (str): 問候語，預設為 \"Hello\"。\n",
    "    \n",
    "    回傳:\n",
    "    str: 格式化的問候訊息。\n",
    "    \"\"\"\n",
    "    return f\"{greeting}, {name}!\""
   ]
  },
  {
   "cell_type": "code",
   "execution_count": 20,
   "id": "84f0e839",
   "metadata": {},
   "outputs": [
    {
     "name": "stdout",
     "output_type": "stream",
     "text": [
      "Help on function greet_person in module __main__:\n",
      "\n",
      "greet_person(name, greeting='Hello')\n",
      "    這個函數會根據提供的名字和問候語，返回一個問候訊息。\n",
      "    \n",
      "    參數:\n",
      "    name (str): 要問候的人的名字。\n",
      "    greeting (str): 問候語，預設為 \"Hello\"。\n",
      "    \n",
      "    回傳:\n",
      "    str: 格式化的問候訊息。\n",
      "\n"
     ]
    }
   ],
   "source": [
    "# 使用help()查看說明\n",
    "help(greet_person)"
   ]
  },
  {
   "cell_type": "code",
   "execution_count": 21,
   "id": "d3a271af",
   "metadata": {},
   "outputs": [
    {
     "name": "stdout",
     "output_type": "stream",
     "text": [
      "Hello, robert!\n"
     ]
    }
   ],
   "source": [
    "# 使用最少的引數值呼叫\n",
    "print(greet_person(\"robert\"))"
   ]
  },
  {
   "cell_type": "code",
   "execution_count": 24,
   "id": "ba06e62d",
   "metadata": {},
   "outputs": [
    {
     "name": "stdout",
     "output_type": "stream",
     "text": [
      "Good afternoon, robert!\n"
     ]
    }
   ],
   "source": [
    "# greeting,不要使用預設值\n",
    "print(greet_person(\"robert\", greeting=\"Good afternoon\"))"
   ]
  }
 ],
 "metadata": {
  "kernelspec": {
   "display_name": "pythonweb",
   "language": "python",
   "name": "python3"
  },
  "language_info": {
   "codemirror_mode": {
    "name": "ipython",
    "version": 3
   },
   "file_extension": ".py",
   "mimetype": "text/x-python",
   "name": "python",
   "nbconvert_exporter": "python",
   "pygments_lexer": "ipython3",
   "version": "3.10.18"
  }
 },
 "nbformat": 4,
 "nbformat_minor": 5
}
