{
 "cells": [
  {
   "cell_type": "code",
   "execution_count": null,
   "id": "d4d13b0d",
   "metadata": {},
   "outputs": [],
   "source": [
    "print(hello world!)"
   ]
  }
 ],
 "metadata": {
  "kernelspec": {
   "display_name": "pythonweb",
   "language": "python",
   "name": "python3"
  },
  "language_info": {
   "name": "python",
   "version": "3.10.18"
  }
 },
 "nbformat": 4,
 "nbformat_minor": 5
}
